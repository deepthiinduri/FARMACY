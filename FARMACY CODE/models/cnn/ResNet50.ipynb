{
 "cells": [
  {
   "cell_type": "markdown",
   "id": "089294c8",
   "metadata": {},
   "source": [
    "# ResNet50"
   ]
  },
  {
   "cell_type": "code",
   "execution_count": 1,
   "id": "rising-forest",
   "metadata": {
    "execution": {
     "iopub.execute_input": "2021-05-17T17:49:48.943360Z",
     "iopub.status.busy": "2021-05-17T17:49:48.941885Z",
     "iopub.status.idle": "2021-05-17T17:49:48.946468Z",
     "shell.execute_reply": "2021-05-17T17:49:48.945976Z"
    },
    "id": "_JzmfbhkxDeY",
    "papermill": {
     "duration": 0.029956,
     "end_time": "2021-05-17T17:49:48.946597",
     "exception": false,
     "start_time": "2021-05-17T17:49:48.916641",
     "status": "completed"
    },
    "tags": []
   },
   "outputs": [],
   "source": [
    "data_dir = 'C:/Users/DELL/OneDrive/Documents/Folder1/FARMACY/New Plant Diseases Dataset(Augmented)/New Plant Diseases Dataset(Augmented)'\n",
    "train_dir = data_dir + '/train'\n",
    "valid_dir = data_dir + '/valid'\n",
    "test_dir = 'C:/Users/DELL/OneDrive/Documents/Folder1/FARMACY/FARMACY CODE/test_files'"
   ]
  },
  {
   "cell_type": "code",
   "execution_count": 2,
   "id": "9cd95c16",
   "metadata": {},
   "outputs": [],
   "source": [
    "#IMPORTING LIBRARIES\n",
    "import numpy as np\n",
    "import pandas as pd\n",
    "import os\n",
    "import matplotlib.pyplot as plt"
   ]
  },
  {
   "cell_type": "code",
   "execution_count": 4,
   "id": "consistent-marks",
   "metadata": {
    "execution": {
     "iopub.execute_input": "2021-05-17T17:50:03.495776Z",
     "iopub.status.busy": "2021-05-17T17:50:03.494956Z",
     "iopub.status.idle": "2021-05-17T17:50:08.890135Z",
     "shell.execute_reply": "2021-05-17T17:50:08.888681Z"
    },
    "id": "hDtTy1dh6m-L",
    "papermill": {
     "duration": 5.819942,
     "end_time": "2021-05-17T17:50:08.890271",
     "exception": false,
     "start_time": "2021-05-17T17:50:03.070329",
     "status": "completed"
    },
    "tags": []
   },
   "outputs": [],
   "source": [
    "import tensorflow\n",
    "from tensorflow import keras\n",
    "\n",
    "from keras.models import Sequential,load_model,Model\n",
    "from keras.layers import Conv2D,MaxPool2D,AveragePooling2D,Dense,Flatten,ZeroPadding2D,BatchNormalization,Activation,Add,Input,Dropout,GlobalAveragePooling2D\n",
    "from keras.optimizers import SGD\n",
    "from keras.initializers import glorot_uniform\n",
    "from keras.preprocessing.image import ImageDataGenerator\n",
    "from keras.callbacks import ModelCheckpoint,EarlyStopping,ReduceLROnPlateau\n"
   ]
  },
  {
   "cell_type": "code",
   "execution_count": 5,
   "id": "directed-finding",
   "metadata": {
    "execution": {
     "iopub.execute_input": "2021-05-17T17:50:16.003917Z",
     "iopub.status.busy": "2021-05-17T17:50:16.002088Z",
     "iopub.status.idle": "2021-05-17T17:50:16.004482Z",
     "shell.execute_reply": "2021-05-17T17:50:16.004885Z"
    },
    "id": "yQ95FggZ37QX",
    "papermill": {
     "duration": 0.403323,
     "end_time": "2021-05-17T17:50:16.005032",
     "exception": false,
     "start_time": "2021-05-17T17:50:15.601709",
     "status": "completed"
    },
    "tags": []
   },
   "outputs": [],
   "source": [
    "\n",
    "from tensorflow.keras.applications import ResNet50\n",
    "from tensorflow.keras.applications.resnet50 import preprocess_input"
   ]
  },
  {
   "cell_type": "code",
   "execution_count": 6,
   "id": "concrete-dynamics",
   "metadata": {
    "execution": {
     "iopub.execute_input": "2021-05-17T17:50:16.772445Z",
     "iopub.status.busy": "2021-05-17T17:50:16.768877Z",
     "iopub.status.idle": "2021-05-17T17:50:21.270194Z",
     "shell.execute_reply": "2021-05-17T17:50:21.269392Z"
    },
    "id": "fROY9SFB4ORk",
    "papermill": {
     "duration": 4.888288,
     "end_time": "2021-05-17T17:50:21.270324",
     "exception": false,
     "start_time": "2021-05-17T17:50:16.382036",
     "status": "completed"
    },
    "tags": []
   },
   "outputs": [
    {
     "name": "stdout",
     "output_type": "stream",
     "text": [
      "Downloading data from https://storage.googleapis.com/tensorflow/keras-applications/resnet/resnet50_weights_tf_dim_ordering_tf_kernels_notop.h5\n",
      "94773248/94765736 [==============================] - 1s 0us/step\n"
     ]
    }
   ],
   "source": [
    "base_model_tf=ResNet50(include_top=False,weights='imagenet',input_shape=(224,224,3),classes=38)\n"
   ]
  },
  {
   "cell_type": "code",
   "execution_count": 7,
   "id": "addressed-tension",
   "metadata": {
    "execution": {
     "iopub.execute_input": "2021-05-17T17:50:22.044685Z",
     "iopub.status.busy": "2021-05-17T17:50:22.043854Z",
     "iopub.status.idle": "2021-05-17T17:50:22.468075Z",
     "shell.execute_reply": "2021-05-17T17:50:22.467499Z"
    },
    "id": "jTEc9IGj5WqQ",
    "outputId": "4b303407-5f77-40d6-e228-56413054b830",
    "papermill": {
     "duration": 0.817897,
     "end_time": "2021-05-17T17:50:22.468260",
     "exception": false,
     "start_time": "2021-05-17T17:50:21.650363",
     "status": "completed"
    },
    "tags": []
   },
   "outputs": [
    {
     "name": "stdout",
     "output_type": "stream",
     "text": [
      "Model: \"model\"\n",
      "_________________________________________________________________\n",
      " Layer (type)                Output Shape              Param #   \n",
      "=================================================================\n",
      " input_2 (InputLayer)        [(None, 224, 224, 3)]     0         \n",
      "                                                                 \n",
      " tf.cast (TFOpLambda)        (None, 224, 224, 3)       0         \n",
      "                                                                 \n",
      " tf.__operators__.getitem (S  (None, 224, 224, 3)      0         \n",
      " licingOpLambda)                                                 \n",
      "                                                                 \n",
      " tf.nn.bias_add (TFOpLambda)  (None, 224, 224, 3)      0         \n",
      "                                                                 \n",
      " resnet50 (Functional)       (None, 7, 7, 2048)        23587712  \n",
      "                                                                 \n",
      " global_average_pooling2d (G  (None, 2048)             0         \n",
      " lobalAveragePooling2D)                                          \n",
      "                                                                 \n",
      " dense (Dense)               (None, 128)               262272    \n",
      "                                                                 \n",
      " dense_1 (Dense)             (None, 64)                8256      \n",
      "                                                                 \n",
      " dense_2 (Dense)             (None, 38)                2470      \n",
      "                                                                 \n",
      "=================================================================\n",
      "Total params: 23,860,710\n",
      "Trainable params: 272,998\n",
      "Non-trainable params: 23,587,712\n",
      "_________________________________________________________________\n"
     ]
    }
   ],
   "source": [
    "#Model building\n",
    "base_model_tf.trainable=False\n",
    "\n",
    "pt=Input(shape=(224,224,3))\n",
    "func=tensorflow.cast(pt,tensorflow.float32)\n",
    "x=preprocess_input(func) #This function used to zero-center each color channel wrt Imagenet dataset\n",
    "model_resnet=base_model_tf(x,training=False)\n",
    "model_resnet=GlobalAveragePooling2D()(model_resnet)\n",
    "model_resnet=Dense(128,activation='relu')(model_resnet)\n",
    "model_resnet=Dense(64,activation='relu')(model_resnet)\n",
    "model_resnet=Dense(38,activation='softmax')(model_resnet)\n",
    "\n",
    "\n",
    "model_main=Model(inputs=pt,outputs=model_resnet)\n",
    "model_main.summary()"
   ]
  },
  {
   "cell_type": "code",
   "execution_count": 8,
   "id": "cathedral-character",
   "metadata": {
    "execution": {
     "iopub.execute_input": "2021-05-17T17:50:23.246432Z",
     "iopub.status.busy": "2021-05-17T17:50:23.245891Z",
     "iopub.status.idle": "2021-05-17T17:51:09.501751Z",
     "shell.execute_reply": "2021-05-17T17:51:09.502195Z"
    },
    "id": "0K2moxA6Vzkb",
    "outputId": "78205acd-8fa8-477a-b018-92e6408d8298",
    "papermill": {
     "duration": 46.652914,
     "end_time": "2021-05-17T17:51:09.502349",
     "exception": false,
     "start_time": "2021-05-17T17:50:22.849435",
     "status": "completed"
    },
    "tags": []
   },
   "outputs": [
    {
     "name": "stdout",
     "output_type": "stream",
     "text": [
      "Found 60795 images belonging to 38 classes.\n",
      "Found 17572 images belonging to 38 classes.\n"
     ]
    }
   ],
   "source": [
    "#Image augmentation\n",
    "train_datagen= ImageDataGenerator(shear_range=0.2,zoom_range=0.2,horizontal_flip=False,vertical_flip=False\n",
    "                                  ,fill_mode='nearest',width_shift_range=0.2,height_shift_range=0.2)\n",
    "\n",
    "val_datagen=ImageDataGenerator()\n",
    "\n",
    "train= train_datagen.flow_from_directory(directory=train_dir,batch_size=32,target_size=(224,224),\n",
    "                                         color_mode='rgb',class_mode='categorical',seed=42)\n",
    "\n",
    "valid=val_datagen.flow_from_directory(directory=valid_dir,batch_size=32,target_size=(224,224),color_mode='rgb',class_mode='categorical')\n",
    "\n"
   ]
  },
  {
   "cell_type": "code",
   "execution_count": 9,
   "id": "designing-thanks",
   "metadata": {
    "execution": {
     "iopub.execute_input": "2021-05-17T17:51:10.896347Z",
     "iopub.status.busy": "2021-05-17T17:51:10.895429Z",
     "iopub.status.idle": "2021-05-17T17:51:10.899434Z",
     "shell.execute_reply": "2021-05-17T17:51:10.900182Z"
    },
    "id": "2xbh-kz4lU-e",
    "papermill": {
     "duration": 0.905421,
     "end_time": "2021-05-17T17:51:10.900397",
     "exception": false,
     "start_time": "2021-05-17T17:51:09.994976",
     "status": "completed"
    },
    "tags": []
   },
   "outputs": [],
   "source": [
    "#CallBacks\n",
    "es = EarlyStopping(monitor='val_accuracy',verbose=1,patience=7,mode='auto')\n",
    "mc = ModelCheckpoint(filepath='C:/Users/DELL/OneDrive/Documents/Folder1/FARMACY/FARMACY CODE/models/cnn',monitor='val_accuracy',verbose=1,save_best_only=True)\n",
    "lr = ReduceLROnPlateau(monitor='val_accuracy',verbose=1,patience=5,min_lr=0.001)"
   ]
  },
  {
   "cell_type": "code",
   "execution_count": 10,
   "id": "vertical-scanning",
   "metadata": {
    "execution": {
     "iopub.execute_input": "2021-05-17T17:51:11.742015Z",
     "iopub.status.busy": "2021-05-17T17:51:11.741148Z",
     "iopub.status.idle": "2021-05-17T17:51:11.752646Z",
     "shell.execute_reply": "2021-05-17T17:51:11.753167Z"
    },
    "id": "1vbm-Bi4nmII",
    "papermill": {
     "duration": 0.414309,
     "end_time": "2021-05-17T17:51:11.753341",
     "exception": false,
     "start_time": "2021-05-17T17:51:11.339032",
     "status": "completed"
    },
    "tags": []
   },
   "outputs": [],
   "source": [
    "model_main.compile(optimizer='Adam',loss='categorical_crossentropy',metrics=['accuracy'])"
   ]
  },
  {
   "cell_type": "code",
   "execution_count": 11,
   "id": "american-annex",
   "metadata": {
    "execution": {
     "iopub.execute_input": "2021-05-17T17:51:12.559620Z",
     "iopub.status.busy": "2021-05-17T17:51:12.558980Z",
     "iopub.status.idle": "2021-05-17T19:02:12.001827Z",
     "shell.execute_reply": "2021-05-17T19:02:12.000433Z"
    },
    "id": "P2vRYeZrn4P_",
    "outputId": "1370601b-e181-4805-80be-608b982101b3",
    "papermill": {
     "duration": 4259.841865,
     "end_time": "2021-05-17T19:02:12.001955",
     "exception": false,
     "start_time": "2021-05-17T17:51:12.160090",
     "status": "completed"
    },
    "tags": []
   },
   "outputs": [
    {
     "name": "stdout",
     "output_type": "stream",
     "text": [
      "Epoch 1/30\n",
      "200/200 [==============================] - 198s 967ms/step - loss: 2.3101 - accuracy: 0.3948 - val_loss: 0.5407 - val_accuracy: 0.8417\n",
      "\n",
      "Epoch 00001: val_accuracy improved from -inf to 0.84168, saving model to /content\n",
      "Epoch 2/30\n",
      "200/200 [==============================] - 141s 706ms/step - loss: 0.4988 - accuracy: 0.8482 - val_loss: 0.4210 - val_accuracy: 0.8697\n",
      "\n",
      "Epoch 00002: val_accuracy improved from 0.84168 to 0.86974, saving model to /content\n",
      "Epoch 3/30\n",
      "200/200 [==============================] - 136s 681ms/step - loss: 0.3550 - accuracy: 0.8833 - val_loss: 0.2511 - val_accuracy: 0.9199\n",
      "\n",
      "Epoch 00003: val_accuracy improved from 0.86974 to 0.91987, saving model to /content\n",
      "Epoch 4/30\n",
      "200/200 [==============================] - 139s 696ms/step - loss: 0.2559 - accuracy: 0.9175 - val_loss: 0.3444 - val_accuracy: 0.8877\n",
      "\n",
      "Epoch 00004: val_accuracy did not improve from 0.91987\n",
      "Epoch 5/30\n",
      "200/200 [==============================] - 133s 666ms/step - loss: 0.2451 - accuracy: 0.9213 - val_loss: 0.1911 - val_accuracy: 0.9395\n",
      "\n",
      "Epoch 00005: val_accuracy improved from 0.91987 to 0.93951, saving model to /content\n",
      "Epoch 6/30\n",
      "200/200 [==============================] - 134s 669ms/step - loss: 0.2153 - accuracy: 0.9241 - val_loss: 0.2576 - val_accuracy: 0.9177\n",
      "\n",
      "Epoch 00006: val_accuracy did not improve from 0.93951\n",
      "Epoch 7/30\n",
      "200/200 [==============================] - 131s 657ms/step - loss: 0.2146 - accuracy: 0.9341 - val_loss: 0.2139 - val_accuracy: 0.9307\n",
      "\n",
      "Epoch 00007: val_accuracy did not improve from 0.93951\n",
      "Epoch 8/30\n",
      "200/200 [==============================] - 131s 654ms/step - loss: 0.2158 - accuracy: 0.9285 - val_loss: 0.2180 - val_accuracy: 0.9300\n",
      "\n",
      "Epoch 00008: val_accuracy did not improve from 0.93951\n",
      "Epoch 9/30\n",
      "200/200 [==============================] - 132s 660ms/step - loss: 0.1642 - accuracy: 0.9477 - val_loss: 0.1696 - val_accuracy: 0.9451\n",
      "\n",
      "Epoch 00009: val_accuracy improved from 0.93951 to 0.94514, saving model to /content\n",
      "Epoch 10/30\n",
      "200/200 [==============================] - 133s 667ms/step - loss: 0.1786 - accuracy: 0.9418 - val_loss: 0.1961 - val_accuracy: 0.9342\n",
      "\n",
      "Epoch 00010: val_accuracy did not improve from 0.94514\n",
      "Epoch 11/30\n",
      "200/200 [==============================] - 132s 660ms/step - loss: 0.1574 - accuracy: 0.9435 - val_loss: 0.1332 - val_accuracy: 0.9564\n",
      "\n",
      "Epoch 00011: val_accuracy improved from 0.94514 to 0.95641, saving model to /content\n",
      "Epoch 12/30\n",
      "200/200 [==============================] - 131s 657ms/step - loss: 0.1453 - accuracy: 0.9501 - val_loss: 0.1629 - val_accuracy: 0.9475\n",
      "\n",
      "Epoch 00012: val_accuracy did not improve from 0.95641\n",
      "Epoch 13/30\n",
      "200/200 [==============================] - 129s 646ms/step - loss: 0.1611 - accuracy: 0.9467 - val_loss: 0.1218 - val_accuracy: 0.9590\n",
      "\n",
      "Epoch 00013: val_accuracy improved from 0.95641 to 0.95897, saving model to /content\n",
      "Epoch 14/30\n",
      "200/200 [==============================] - 129s 644ms/step - loss: 0.1577 - accuracy: 0.9451 - val_loss: 0.1684 - val_accuracy: 0.9443\n",
      "\n",
      "Epoch 00014: val_accuracy did not improve from 0.95897\n",
      "Epoch 15/30\n",
      "200/200 [==============================] - 128s 641ms/step - loss: 0.1488 - accuracy: 0.9498 - val_loss: 0.1191 - val_accuracy: 0.9604\n",
      "\n",
      "Epoch 00015: val_accuracy improved from 0.95897 to 0.96039, saving model to /content\n",
      "Epoch 16/30\n",
      "200/200 [==============================] - 127s 636ms/step - loss: 0.1372 - accuracy: 0.9511 - val_loss: 0.1288 - val_accuracy: 0.9570\n",
      "\n",
      "Epoch 00016: val_accuracy did not improve from 0.96039\n",
      "Epoch 17/30\n",
      "200/200 [==============================] - 127s 636ms/step - loss: 0.1385 - accuracy: 0.9557 - val_loss: 0.1671 - val_accuracy: 0.9465\n",
      "\n",
      "Epoch 00017: val_accuracy did not improve from 0.96039\n",
      "Epoch 18/30\n",
      "200/200 [==============================] - 127s 635ms/step - loss: 0.1125 - accuracy: 0.9622 - val_loss: 0.1490 - val_accuracy: 0.9494\n",
      "\n",
      "Epoch 00018: val_accuracy did not improve from 0.96039\n",
      "Epoch 19/30\n",
      "200/200 [==============================] - 127s 634ms/step - loss: 0.1339 - accuracy: 0.9583 - val_loss: 0.1701 - val_accuracy: 0.9470\n",
      "\n",
      "Epoch 00019: val_accuracy did not improve from 0.96039\n",
      "Epoch 20/30\n",
      "200/200 [==============================] - 126s 632ms/step - loss: 0.1229 - accuracy: 0.9570 - val_loss: 0.1034 - val_accuracy: 0.9648\n",
      "\n",
      "Epoch 00020: val_accuracy improved from 0.96039 to 0.96483, saving model to /content\n",
      "Epoch 21/30\n",
      "200/200 [==============================] - 129s 644ms/step - loss: 0.1097 - accuracy: 0.9587 - val_loss: 0.1165 - val_accuracy: 0.9608\n",
      "\n",
      "Epoch 00021: val_accuracy did not improve from 0.96483\n",
      "Epoch 22/30\n",
      "200/200 [==============================] - 131s 655ms/step - loss: 0.1224 - accuracy: 0.9608 - val_loss: 0.1956 - val_accuracy: 0.9377\n",
      "\n",
      "Epoch 00022: val_accuracy did not improve from 0.96483\n",
      "Epoch 23/30\n",
      "200/200 [==============================] - 129s 646ms/step - loss: 0.1210 - accuracy: 0.9577 - val_loss: 0.1750 - val_accuracy: 0.9437\n",
      "\n",
      "Epoch 00023: val_accuracy did not improve from 0.96483\n",
      "Epoch 24/30\n",
      "200/200 [==============================] - 129s 643ms/step - loss: 0.1182 - accuracy: 0.9601 - val_loss: 0.1333 - val_accuracy: 0.9586\n",
      "\n",
      "Epoch 00024: val_accuracy did not improve from 0.96483\n",
      "Epoch 25/30\n",
      "200/200 [==============================] - 129s 646ms/step - loss: 0.1077 - accuracy: 0.9632 - val_loss: 0.1998 - val_accuracy: 0.9414\n",
      "\n",
      "Epoch 00025: val_accuracy did not improve from 0.96483\n",
      "\n",
      "Epoch 00025: ReduceLROnPlateau reducing learning rate to 0.001.\n",
      "Epoch 26/30\n",
      "200/200 [==============================] - 128s 640ms/step - loss: 0.1249 - accuracy: 0.9597 - val_loss: 0.1125 - val_accuracy: 0.9636\n",
      "\n",
      "Epoch 00026: val_accuracy did not improve from 0.96483\n",
      "Epoch 27/30\n",
      "200/200 [==============================] - 127s 636ms/step - loss: 0.1124 - accuracy: 0.9615 - val_loss: 0.1078 - val_accuracy: 0.9659\n",
      "\n",
      "Epoch 00027: val_accuracy improved from 0.96483 to 0.96591, saving model to /content\n",
      "Epoch 28/30\n",
      "200/200 [==============================] - 128s 639ms/step - loss: 0.1143 - accuracy: 0.9596 - val_loss: 0.1173 - val_accuracy: 0.9620\n",
      "\n",
      "Epoch 00028: val_accuracy did not improve from 0.96591\n",
      "Epoch 29/30\n",
      "200/200 [==============================] - 127s 636ms/step - loss: 0.0946 - accuracy: 0.9665 - val_loss: 0.1304 - val_accuracy: 0.9593\n",
      "\n",
      "Epoch 00029: val_accuracy did not improve from 0.96591\n",
      "Epoch 30/30\n",
      "200/200 [==============================] - 129s 646ms/step - loss: 0.1106 - accuracy: 0.9630 - val_loss: 0.1147 - val_accuracy: 0.9649\n",
      "\n",
      "Epoch 00030: val_accuracy did not improve from 0.96591\n"
     ]
    },
    {
     "data": {
      "text/plain": [
       "<tensorflow.python.keras.callbacks.History at 0x7f40ac5d2810>"
      ]
     },
     "execution_count": 11,
     "metadata": {},
     "output_type": "execute_result"
    }
   ],
   "source": [
    "#Training\n",
    "model_main.fit(train,validation_data=valid,epochs=30,steps_per_epoch=200,verbose=1,callbacks=[mc,es,lr])"
   ]
  },
  {
   "cell_type": "code",
   "execution_count": 12,
   "id": "automotive-protocol",
   "metadata": {
    "execution": {
     "iopub.execute_input": "2021-05-17T19:02:15.951942Z",
     "iopub.status.busy": "2021-05-17T19:02:15.931579Z",
     "iopub.status.idle": "2021-05-17T19:02:16.265146Z",
     "shell.execute_reply": "2021-05-17T19:02:16.263533Z"
    },
    "id": "I71Bo7QJ_cp7",
    "papermill": {
     "duration": 2.295209,
     "end_time": "2021-05-17T19:02:16.265277",
     "exception": false,
     "start_time": "2021-05-17T19:02:13.970068",
     "status": "completed"
    },
    "tags": []
   },
   "outputs": [],
   "source": [
    "model_main.save(\"RESNET50_PLANT_DISEASE.h5\")"
   ]
  },
  {
   "cell_type": "code",
   "execution_count": 13,
   "id": "systematic-valuable",
   "metadata": {
    "execution": {
     "iopub.execute_input": "2021-05-17T19:02:20.355761Z",
     "iopub.status.busy": "2021-05-17T19:02:20.355250Z",
     "iopub.status.idle": "2021-05-17T19:02:20.573174Z",
     "shell.execute_reply": "2021-05-17T19:02:20.572647Z"
    },
    "id": "_FcvZtIN8Ylw",
    "papermill": {
     "duration": 2.274826,
     "end_time": "2021-05-17T19:02:20.573303",
     "exception": false,
     "start_time": "2021-05-17T19:02:18.298477",
     "status": "completed"
    },
    "tags": []
   },
   "outputs": [],
   "source": [
    "import matplotlib.pyplot as plt\n",
    "%matplotlib inline\n",
    "\n",
    "import cv2\n",
    "from PIL import Image"
   ]
  },
  {
   "cell_type": "code",
   "execution_count": 14,
   "id": "promising-coordinator",
   "metadata": {
    "execution": {
     "iopub.execute_input": "2021-05-17T19:02:24.426328Z",
     "iopub.status.busy": "2021-05-17T19:02:24.422775Z",
     "iopub.status.idle": "2021-05-17T19:02:24.548084Z",
     "shell.execute_reply": "2021-05-17T19:02:24.547640Z"
    },
    "id": "OlDgs86ymntb",
    "outputId": "b46cb74b-5e8c-4e92-cfc4-2223679ff970",
    "papermill": {
     "duration": 2.053265,
     "end_time": "2021-05-17T19:02:24.548217",
     "exception": false,
     "start_time": "2021-05-17T19:02:22.494952",
     "status": "completed"
    },
    "tags": []
   },
   "outputs": [
    {
     "data": {
      "text/plain": [
       "Text(0.5, 1.0, 'loss')"
      ]
     },
     "execution_count": 14,
     "metadata": {},
     "output_type": "execute_result"
    },
    {
     "data": {
      "image/png": "[encoded data removed]",
      "text/plain": [
       "<Figure size 720x360 with 1 Axes>"
      ]
     },
     "metadata": {
      "needs_background": "light"
     },
     "output_type": "display_data"
    }
   ],
   "source": [
    "plt.figure(figsize=(10,5))\n",
    "plt.plot(model_main.history.history['loss'],color='b',label='Training loss')\n",
    "plt.plot(model_main.history.history['val_loss'],color='r',label='Validation loss')\n",
    "plt.xlabel(\"epochs\")\n",
    "plt.ylabel(\"loss_value\")\n",
    "plt.title(\"loss\")\n"
   ]
  },
  {
   "cell_type": "code",
   "execution_count": 15,
   "id": "persistent-individual",
   "metadata": {
    "execution": {
     "iopub.execute_input": "2021-05-17T19:02:28.417285Z",
     "iopub.status.busy": "2021-05-17T19:02:28.414855Z",
     "iopub.status.idle": "2021-05-17T19:02:28.537624Z",
     "shell.execute_reply": "2021-05-17T19:02:28.538042Z"
    },
    "id": "4F17Eugk5OlL",
    "papermill": {
     "duration": 2.083168,
     "end_time": "2021-05-17T19:02:28.538194",
     "exception": false,
     "start_time": "2021-05-17T19:02:26.455026",
     "status": "completed"
    },
    "tags": []
   },
   "outputs": [
    {
     "data": {
      "text/plain": [
       "Text(0.5, 1.0, 'accuracy graph')"
      ]
     },
     "execution_count": 15,
     "metadata": {},
     "output_type": "execute_result"
    },
    {
     "data": {
      "image/png": "[encoded data removed]",
      "text/plain": [
       "<Figure size 720x360 with 1 Axes>"
      ]
     },
     "metadata": {
      "needs_background": "light"
     },
     "output_type": "display_data"
    }
   ],
   "source": [
    "plt.figure(figsize=(10,5))\n",
    "plt.plot(model_main.history.history['accuracy'],color='b',label='Training accuracy')\n",
    "plt.plot(model_main.history.history['val_accuracy'],color='r',label='Validation accuracy')\n",
    "plt.xlabel(\"epochs\")\n",
    "plt.ylabel(\"accuracy\")\n",
    "plt.title(\"accuracy graph\")\n"
   ]
  },
  {
   "cell_type": "code",
   "execution_count": null,
   "id": "ed0cf8e0",
   "metadata": {},
   "outputs": [],
   "source": []
  }
 ],
 "metadata": {
  "kernelspec": {
   "display_name": "Python 3",
   "language": "python",
   "name": "python3"
  },
  "language_info": {
   "codemirror_mode": {
    "name": "ipython",
    "version": 3
   },
   "file_extension": ".py",
   "mimetype": "text/x-python",
   "name": "python",
   "nbconvert_exporter": "python",
   "pygments_lexer": "ipython3",
   "version": "3.8.6"
  },
  "papermill": {
   "default_parameters": {},
   "duration": 4418.330835,
   "end_time": "2021-05-17T19:03:22.053433",
   "environment_variables": {},
   "exception": null,
   "input_path": "__notebook__.ipynb",
   "output_path": "__notebook__.ipynb",
   "parameters": {},
   "start_time": "2021-05-17T17:49:43.722598",
   "version": "2.3.2"
  }
 },
 "nbformat": 4,
 "nbformat_minor": 5
}
