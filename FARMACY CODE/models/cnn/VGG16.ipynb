{
 "cells": [
  {
   "cell_type": "markdown",
   "metadata": {
    "papermill": {
     "duration": 0.016975,
     "end_time": "2022-05-29T05:38:26.613795",
     "exception": false,
     "start_time": "2022-05-29T05:38:26.596820",
     "status": "completed"
    },
    "tags": []
   },
   "source": [
    "# VGG16"
   ]
  },
  {
   "cell_type": "code",
   "execution_count": 1,
   "metadata": {},
   "outputs": [],
   "source": [
    "data_dir = 'C:/Users/DELL/OneDrive/Documents/Folder1/FARMACY/New Plant Diseases Dataset(Augmented)/New Plant Diseases Dataset(Augmented)'\n",
    "train_dir = data_dir + '/train'\n",
    "valid_dir = data_dir + '/valid'\n",
    "test_dir = 'C:/Users/DELL/OneDrive/Documents/Folder1/FARMACY/FARMACY CODE/test_files'"
   ]
  },
  {
   "cell_type": "code",
   "execution_count": 2,
   "metadata": {
    "_cell_guid": "b1076dfc-b9ad-4769-8c92-a6c4dae69d19",
    "_uuid": "8f2839f25d086af736a60e9eeb907d3b93b6e0e5",
    "execution": {
     "iopub.execute_input": "2022-05-29T05:38:26.653961Z",
     "iopub.status.busy": "2022-05-29T05:38:26.653038Z",
     "iopub.status.idle": "2022-05-29T05:38:34.000652Z",
     "shell.execute_reply": "2022-05-29T05:38:34.000021Z",
     "shell.execute_reply.started": "2022-05-26T16:56:45.512555Z"
    },
    "papermill": {
     "duration": 7.371715,
     "end_time": "2022-05-29T05:38:34.000780",
     "exception": false,
     "start_time": "2022-05-29T05:38:26.629065",
     "status": "completed"
    },
    "tags": []
   },
   "outputs": [],
   "source": [
    "import numpy as np\n",
    "import pandas as pd\n",
    "import seaborn as sns\n",
    "import sys\n",
    "import os"
   ]
  },
  {
   "cell_type": "code",
   "execution_count": 4,
   "metadata": {},
   "outputs": [],
   "source": [
    "import tensorflow as tf\n",
    "from keras.applications.vgg16 import VGG16\n",
    "import keras\n",
    "\n",
    "from numpy import load\n",
    "from matplotlib import pyplot\n",
    "\n",
    "from sklearn.model_selection import train_test_split\n",
    "from keras import backend\n",
    "from keras.layers import Dense\n",
    "from keras.layers import Flatten\n",
    "from keras.models import Sequential\n",
    "from keras.layers import Conv2D,MaxPooling2D\n",
    "from keras.models import Model\n",
    "from keras.preprocessing.image import ImageDataGenerator\n",
    "from keras.layers import Dropout\n",
    "\n",
    "from tensorflow.keras.optimizers import SGD\n",
    "from tensorflow.keras.layers import BatchNormalization"
   ]
  },
  {
   "cell_type": "code",
   "execution_count": 5,
   "metadata": {
    "_cell_guid": "79c7e3d0-c299-4dcb-8224-4455121ee9b0",
    "_uuid": "d629ff2d2480ee46fbb7e2d37f6b5fab8052498a",
    "execution": {
     "iopub.execute_input": "2022-05-29T05:38:34.073858Z",
     "iopub.status.busy": "2022-05-29T05:38:34.073075Z",
     "iopub.status.idle": "2022-05-29T05:39:23.763857Z",
     "shell.execute_reply": "2022-05-29T05:39:23.763316Z",
     "shell.execute_reply.started": "2022-05-26T16:58:56.58286Z"
    },
    "papermill": {
     "duration": 49.713938,
     "end_time": "2022-05-29T05:39:23.763979",
     "exception": false,
     "start_time": "2022-05-29T05:38:34.050041",
     "status": "completed"
    },
    "tags": []
   },
   "outputs": [
    {
     "name": "stdout",
     "output_type": "stream",
     "text": [
      "Found 60795 images belonging to 38 classes.\n",
      "Found 17572 images belonging to 38 classes.\n"
     ]
    }
   ],
   "source": [
    "train_datagen = ImageDataGenerator(rescale=1./255,\n",
    "                                   shear_range=0.2,\n",
    "                                   zoom_range=0.2,\n",
    "                                   width_shift_range=0.2,\n",
    "                                   height_shift_range=0.2,\n",
    "                                   rotation_range= 45,\n",
    "                                   fill_mode='nearest')\n",
    "\n",
    "valid_datagen = ImageDataGenerator(rescale=1./255)\n",
    "\n",
    "batch_size = 256\n",
    "training_set = train_datagen.flow_from_directory(train_dir,\n",
    "                                                 target_size=(224, 224),\n",
    "                                                 batch_size=batch_size,\n",
    "                                                 class_mode='categorical')\n",
    "\n",
    "valid_set = valid_datagen.flow_from_directory(valid_dir,\n",
    "                                            target_size=(224, 224),\n",
    "                                            batch_size=batch_size,\n",
    "                                            class_mode='categorical')\n"
   ]
  },
  {
   "cell_type": "code",
   "execution_count": 6,
   "metadata": {
    "execution": {
     "iopub.execute_input": "2022-05-29T05:39:23.963140Z",
     "iopub.status.busy": "2022-05-29T05:39:23.962446Z",
     "iopub.status.idle": "2022-05-29T05:39:31.478146Z",
     "shell.execute_reply": "2022-05-29T05:39:31.477186Z",
     "shell.execute_reply.started": "2022-05-26T17:00:21.206473Z"
    },
    "papermill": {
     "duration": 7.537108,
     "end_time": "2022-05-29T05:39:31.478292",
     "exception": false,
     "start_time": "2022-05-29T05:39:23.941184",
     "status": "completed"
    },
    "tags": []
   },
   "outputs": [],
   "source": [
    "base_model=VGG16(include_top=False,input_shape=(224,224,3))\n",
    "base_model.trainable=False"
   ]
  },
  {
   "cell_type": "code",
   "execution_count": 7,
   "metadata": {
    "execution": {
     "iopub.execute_input": "2022-05-29T05:39:31.546589Z",
     "iopub.status.busy": "2022-05-29T05:39:31.545534Z",
     "iopub.status.idle": "2022-05-29T05:39:31.623779Z",
     "shell.execute_reply": "2022-05-29T05:39:31.622786Z",
     "shell.execute_reply.started": "2022-05-26T17:00:38.288818Z"
    },
    "papermill": {
     "duration": 0.115729,
     "end_time": "2022-05-29T05:39:31.623971",
     "exception": false,
     "start_time": "2022-05-29T05:39:31.508242",
     "status": "completed"
    },
    "tags": []
   },
   "outputs": [
    {
     "name": "stdout",
     "output_type": "stream",
     "text": [
      "Model: \"sequential\"\n",
      "_________________________________________________________________\n",
      " Layer (type)                Output Shape              Param #   \n",
      "=================================================================\n",
      " vgg16 (Functional)          (None, 7, 7, 512)         14714688  \n",
      "                                                                 \n",
      " flatten (Flatten)           (None, 25088)             0         \n",
      "                                                                 \n",
      " dense (Dense)               (None, 26)                652314    \n",
      "                                                                 \n",
      "=================================================================\n",
      "Total params: 15,367,002\n",
      "Trainable params: 652,314\n",
      "Non-trainable params: 14,714,688\n",
      "_________________________________________________________________\n"
     ]
    }
   ],
   "source": [
    "model_main = keras.models.Sequential()\n",
    "model_main.add(base_model)\n",
    "model_main.add(Flatten())\n",
    "model_main.add(Dense(26,activation='softmax'))\n",
    "model_main.summary()"
   ]
  },
  {
   "cell_type": "code",
   "execution_count": 10,
   "metadata": {
    "execution": {
     "iopub.execute_input": "2022-05-29T05:39:31.690975Z",
     "iopub.status.busy": "2022-05-29T05:39:31.689884Z",
     "iopub.status.idle": "2022-05-29T05:39:31.748919Z",
     "shell.execute_reply": "2022-05-29T05:39:31.748009Z",
     "shell.execute_reply.started": "2022-05-26T17:00:51.644221Z"
    },
    "papermill": {
     "duration": 0.094174,
     "end_time": "2022-05-29T05:39:31.749032",
     "exception": false,
     "start_time": "2022-05-29T05:39:31.654858",
     "status": "completed"
    },
    "tags": []
   },
   "outputs": [],
   "source": [
    "model_main.compile(optimizer='adam',\n",
    "              loss='categorical_crossentropy',\n",
    "              metrics=['accuracy'])"
   ]
  },
  {
   "cell_type": "code",
   "execution_count": 12,
   "metadata": {
    "execution": {
     "iopub.execute_input": "2022-05-29T05:39:32.024663Z",
     "iopub.status.busy": "2022-05-29T05:39:32.023584Z",
     "iopub.status.idle": "2022-05-29T10:25:53.161695Z",
     "shell.execute_reply": "2022-05-29T10:25:53.162569Z"
    },
    "papermill": {
     "duration": 17181.174955,
     "end_time": "2022-05-29T10:25:53.162806",
     "exception": false,
     "start_time": "2022-05-29T05:39:31.987851",
     "status": "completed"
    },
    "scrolled": false,
    "tags": []
   },
   "outputs": [
    {
     "name": "stdout",
     "output_type": "stream",
     "text": [
      "Epoch 1/20\n",
      "188/188 [==============================] - 1109s 6s/step - loss: 0.8793 - accuracy: 0.7350 - val_loss: 0.3452 - val_accuracy: 0.8633\n",
      "Epoch 2/20\n",
      "188/188 [==============================] - 838s 4s/step - loss: 0.4535 - accuracy: 0.8527 - val_loss: 0.3156 - val_accuracy: 0.8911\n",
      "Epoch 3/20\n",
      "188/188 [==============================] - 828s 4s/step - loss: 0.3748 - accuracy: 0.8767 - val_loss: 0.2354 - val_accuracy: 0.8973\n",
      "Epoch 4/20\n",
      "188/188 [==============================] - 841s 4s/step - loss: 0.3500 - accuracy: 0.8824 - val_loss: 0.3273 - val_accuracy: 0.8896\n",
      "Epoch 5/20\n",
      "188/188 [==============================] - 846s 4s/step - loss: 0.3187 - accuracy: 0.8922 - val_loss: 0.3604 - val_accuracy: 0.8978\n",
      "Epoch 6/20\n",
      "188/188 [==============================] - 851s 5s/step - loss: 0.3086 - accuracy: 0.8955 - val_loss: 0.3330 - val_accuracy: 0.9156\n",
      "Epoch 7/20\n",
      "188/188 [==============================] - 859s 5s/step - loss: 0.2860 - accuracy: 0.9032 - val_loss: 0.2082 - val_accuracy: 0.9196\n",
      "Epoch 8/20\n",
      "188/188 [==============================] - 846s 4s/step - loss: 0.2786 - accuracy: 0.9046 - val_loss: 0.3514 - val_accuracy: 0.8831\n",
      "Epoch 9/20\n",
      "188/188 [==============================] - 843s 4s/step - loss: 0.2625 - accuracy: 0.9112 - val_loss: 0.3189 - val_accuracy: 0.9105\n",
      "Epoch 10/20\n",
      "188/188 [==============================] - 843s 4s/step - loss: 0.2714 - accuracy: 0.9075 - val_loss: 0.3306 - val_accuracy: 0.9092\n",
      "Epoch 11/20\n",
      "188/188 [==============================] - 843s 4s/step - loss: 0.2559 - accuracy: 0.9144 - val_loss: 0.3565 - val_accuracy: 0.9097\n",
      "Epoch 12/20\n",
      "188/188 [==============================] - 839s 4s/step - loss: 0.2459 - accuracy: 0.9159 - val_loss: 0.2722 - val_accuracy: 0.9104\n",
      "Epoch 13/20\n",
      "188/188 [==============================] - 844s 4s/step - loss: 0.2397 - accuracy: 0.9181 - val_loss: 0.3189 - val_accuracy: 0.8989\n",
      "Epoch 14/20\n",
      "188/188 [==============================] - 852s 5s/step - loss: 0.2349 - accuracy: 0.9196 - val_loss: 0.3286 - val_accuracy: 0.9096\n",
      "Epoch 15/20\n",
      "188/188 [==============================] - 853s 5s/step - loss: 0.2402 - accuracy: 0.9178 - val_loss: 0.2286 - val_accuracy: 0.9022\n",
      "Epoch 16/20\n",
      "188/188 [==============================] - 848s 5s/step - loss: 0.2362 - accuracy: 0.9201 - val_loss: 0.1518 - val_accuracy: 0.9163\n",
      "Epoch 17/20\n",
      "188/188 [==============================] - 866s 5s/step - loss: 0.2268 - accuracy: 0.9221 - val_loss: 0.2861 - val_accuracy: 0.9114\n",
      "Epoch 18/20\n",
      "188/188 [==============================] - 842s 4s/step - loss: 0.2289 - accuracy: 0.9224 - val_loss: 0.3851 - val_accuracy: 0.9010\n",
      "Epoch 19/20\n",
      "188/188 [==============================] - 842s 4s/step - loss: 0.2250 - accuracy: 0.9242 - val_loss: 0.3805 - val_accuracy: 0.9068\n",
      "Epoch 20/20\n",
      "188/188 [==============================] - 843s 4s/step - loss: 0.2218 - accuracy: 0.9241 - val_loss: 0.1859 - val_accuracy: 0.9149\n"
     ]
    }
   ],
   "source": [
    "#fitting images to CNN\n",
    "history = model_main.fit(training_set,\n",
    "                         steps_per_epoch=train_dir//batch_size,\n",
    "                         validation_data=valid_set,\n",
    "                         epochs=20,\n",
    "                         callbacks = None,\n",
    "                         validation_steps=valid_dir//batch_size,\n",
    "                         )\n"
   ]
  },
  {
   "cell_type": "code",
   "execution_count": 13,
   "metadata": {
    "execution": {
     "iopub.execute_input": "2022-05-29T10:25:56.326169Z",
     "iopub.status.busy": "2022-05-29T10:25:56.325028Z",
     "iopub.status.idle": "2022-05-29T10:25:56.619022Z",
     "shell.execute_reply": "2022-05-29T10:25:56.618394Z"
    },
    "papermill": {
     "duration": 1.685819,
     "end_time": "2022-05-29T10:25:56.619195",
     "exception": false,
     "start_time": "2022-05-29T10:25:54.933376",
     "status": "completed"
    },
    "tags": []
   },
   "outputs": [],
   "source": [
    "model_main.save(\"VGG16_PLANT_DISEASE.h5\")"
   ]
  },
  {
   "cell_type": "code",
   "execution_count": 14,
   "metadata": {},
   "outputs": [],
   "source": [
    "import matplotlib.pyplot as plt\n",
    "import seaborn as sns\n",
    "sns.set()\n",
    "\n",
    "acc = history.history['accuracy']\n",
    "val_acc = history.history['val_accuracy']\n",
    "loss = history.history['loss']\n",
    "val_loss = history.history['val_loss']\n",
    "epochs = range(1, len(loss) + 1)\n"
   ]
  },
  {
   "cell_type": "code",
   "execution_count": 15,
   "metadata": {
    "execution": {
     "iopub.execute_input": "2022-05-29T10:26:06.014527Z",
     "iopub.status.busy": "2022-05-29T10:26:06.002030Z",
     "iopub.status.idle": "2022-05-29T10:26:06.757565Z",
     "shell.execute_reply": "2022-05-29T10:26:06.758144Z"
    },
    "papermill": {
     "duration": 2.143554,
     "end_time": "2022-05-29T10:26:06.758325",
     "exception": false,
     "start_time": "2022-05-29T10:26:04.614771",
     "status": "completed"
    },
    "tags": []
   },
   "outputs": [
    {
     "data": {
      "image/png": "[encoded data removed]",
      "text/plain": [
       "<Figure size 432x288 with 1 Axes>"
      ]
     },
     "metadata": {},
     "output_type": "display_data"
    },
    {
     "data": {
      "image/png": "[encoded data removed]",
      "text/plain": [
       "<Figure size 432x288 with 1 Axes>"
      ]
     },
     "metadata": {},
     "output_type": "display_data"
    }
   ],
   "source": [
    "#accuracy plot\n",
    "plt.plot(epochs, acc, color='green', label='Training Accuracy')\n",
    "plt.plot(epochs, val_acc, color='blue', label='Validation Accuracy')\n",
    "plt.title('Training and Validation Accuracy')\n",
    "plt.ylabel('Accuracy')\n",
    "plt.xlabel('Epoch')\n",
    "plt.legend()\n",
    "\n",
    "plt.figure()\n",
    "#loss plot\n",
    "plt.plot(epochs, loss, color='pink', label='Training Loss')\n",
    "plt.plot(epochs, val_loss, color='red', label='Validation Loss')\n",
    "plt.title('Training and Validation Loss')\n",
    "plt.xlabel('Epoch')\n",
    "plt.ylabel('Loss')\n",
    "plt.legend()\n",
    "\n",
    "plt.show()\n"
   ]
  },
  {
   "cell_type": "code",
   "execution_count": null,
   "metadata": {},
   "outputs": [],
   "source": []
  }
 ],
 "metadata": {
  "kernelspec": {
   "display_name": "Python 3",
   "language": "python",
   "name": "python3"
  },
  "language_info": {
   "codemirror_mode": {
    "name": "ipython",
    "version": 3
   },
   "file_extension": ".py",
   "mimetype": "text/x-python",
   "name": "python",
   "nbconvert_exporter": "python",
   "pygments_lexer": "ipython3",
   "version": "3.8.6"
  },
  "papermill": {
   "duration": 17269.25589,
   "end_time": "2022-05-29T10:26:11.425592",
   "environment_variables": {},
   "exception": null,
   "input_path": "__notebook__.ipynb",
   "output_path": "__notebook__.ipynb",
   "parameters": {},
   "start_time": "2022-05-29T05:38:22.169702",
   "version": "2.1.0"
  }
 },
 "nbformat": 4,
 "nbformat_minor": 4
}
