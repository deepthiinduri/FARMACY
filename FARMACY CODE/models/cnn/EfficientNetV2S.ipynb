{
 "cells": [
  {
   "cell_type": "markdown",
   "metadata": {},
   "source": [
    "# EfficientNetV2S"
   ]
  },
  {
   "cell_type": "code",
   "execution_count": 1,
   "metadata": {
    "id": "1_LE3CGDLXkd"
   },
   "outputs": [],
   "source": [
    "data_dir = 'C:/Users/DELL/OneDrive/Documents/Folder1/FARMACY/New Plant Diseases Dataset(Augmented)/New Plant Diseases Dataset(Augmented)'\n",
    "train_dir = data_dir + '/train'\n",
    "valid_dir = data_dir + '/valid'\n",
    "test_dir = 'C:/Users/DELL/OneDrive/Documents/Folder1/FARMACY/FARMACY CODE/test_files'"
   ]
  },
  {
   "cell_type": "code",
   "execution_count": 2,
   "metadata": {
    "id": "4usF1CsFXqyf"
   },
   "outputs": [],
   "source": [
    "import tensorflow\n",
    "from tensorflow import keras\n",
    "from tensorflow.keras.applications.efficientnet_v2 import EfficientNetV2S\n",
    "from tensorflow.keras.preprocessing import image\n",
    "from tensorflow.keras.models import load_model\n",
    "from tensorflow.keras.applications.efficientnet_v2 import preprocess_input, decode_predictions\n",
    "from keras.utils.np_utils import to_categorical\n",
    "import numpy as np\n",
    "import os, shutil"
   ]
  },
  {
   "cell_type": "code",
   "execution_count": 3,
   "metadata": {
    "id": "NoB1Ai4HCfmR"
   },
   "outputs": [],
   "source": [
    "from keras.models import Sequential,load_model,Model\n",
    "from keras.layers import Conv2D,MaxPool2D,AveragePooling2D,Dense,Flatten,ZeroPadding2D,BatchNormalization,Activation,Add,Input,Dropout,GlobalAveragePooling2D\n",
    "from keras.initializers import glorot_uniform\n",
    "from keras.preprocessing.image import ImageDataGenerator\n",
    "from keras.callbacks import ModelCheckpoint,EarlyStopping,ReduceLROnPlateau"
   ]
  },
  {
   "cell_type": "code",
   "execution_count": 4,
   "metadata": {
    "id": "WsOgh0wwuNIP"
   },
   "outputs": [],
   "source": [
    "newpath = 'C:/Users/DELL/OneDrive/Documents/Folder1/FARMACY/FARMACY CODE/test_files' \n",
    "if not os.path.exists(newpath):\n",
    "    os.makedirs(newpath)\n",
    "\n",
    "x = os.listdir(train_dir)\n",
    "for dir_names in x:\n",
    "  # print(dir_names)\n",
    "  p = os.listdir(os.path.join(train_dir, dir_names))\n",
    "  if not os.path.exists(os.path.join(newpath, dir_names)):\n",
    "    os.makedirs(os.path.join(newpath, dir_names))\n",
    "  cnt = 0\n",
    "  file_names = []\n",
    "  for image_names in p:\n",
    "    if cnt==250:\n",
    "      break\n",
    "    file_names.append(train_dir+'/'+dir_names+'/'+image_names)\n",
    "    cnt += 1\n",
    "  for f in file_names:\n",
    "    shutil.move(f, os.path.join(newpath, dir_names))\n",
    "    \n",
    "\n"
   ]
  },
  {
   "cell_type": "code",
   "execution_count": 5,
   "metadata": {
    "colab": {
     "base_uri": "https://localhost:8080/"
    },
    "id": "IDqCmqn4uLmL",
    "outputId": "bc9fcaa6-27d5-49f7-9bce-b265a737d1f8"
   },
   "outputs": [
    {
     "name": "stdout",
     "output_type": "stream",
     "text": [
      "Found 0 images belonging to 38 classes.\n",
      "Found 17572 images belonging to 38 classes.\n",
      "Found 35263 images belonging to 38 classes.\n"
     ]
    }
   ],
   "source": [
    "train_datagen = ImageDataGenerator(shear_range=0.2,zoom_range=0.2,horizontal_flip=False,vertical_flip=False\n",
    "                                  ,fill_mode='nearest',width_shift_range=0.2,height_shift_range=0.2)\n",
    "\n",
    "val_datagen = ImageDataGenerator()\n",
    "\n",
    "train = train_datagen.flow_from_directory(directory=train_dir,batch_size=32,target_size=(224,224),\n",
    "                                         color_mode='rgb',class_mode='categorical',seed=42)\n",
    "\n",
    "valid = val_datagen.flow_from_directory(directory=valid_dir,batch_size=32,target_size=(224,224),color_mode='rgb',class_mode='categorical')\n",
    "\n",
    "test_datagen = ImageDataGenerator()\n",
    "\n",
    "test = test_datagen.flow_from_directory(directory=test_dir,batch_size=32,target_size=(224,224),color_mode='rgb',class_mode='categorical')"
   ]
  },
  {
   "cell_type": "code",
   "execution_count": 6,
   "metadata": {
    "id": "FBBqh5uDB4RO"
   },
   "outputs": [],
   "source": [
    "base_model_tf=EfficientNetV2S(include_top=False,weights='imagenet',input_shape=(224,224,3),classes=38)"
   ]
  },
  {
   "cell_type": "code",
   "execution_count": 7,
   "metadata": {
    "colab": {
     "base_uri": "https://localhost:8080/"
    },
    "id": "F5_v4yxfCUtO",
    "outputId": "e63d0950-5419-437f-8632-783495a6cb8c"
   },
   "outputs": [
    {
     "name": "stdout",
     "output_type": "stream",
     "text": [
      "Model: \"model\"\n",
      "_________________________________________________________________\n",
      " Layer (type)                Output Shape              Param #   \n",
      "=================================================================\n",
      " input_2 (InputLayer)        [(None, 224, 224, 3)]     0         \n",
      "                                                                 \n",
      " tf.cast (TFOpLambda)        (None, 224, 224, 3)       0         \n",
      "                                                                 \n",
      " efficientnetv2-s (Functiona  (None, 7, 7, 1280)       20331360  \n",
      " l)                                                              \n",
      "                                                                 \n",
      " global_average_pooling2d (G  (None, 1280)             0         \n",
      " lobalAveragePooling2D)                                          \n",
      "                                                                 \n",
      " dense (Dense)               (None, 128)               163968    \n",
      "                                                                 \n",
      " dense_1 (Dense)             (None, 64)                8256      \n",
      "                                                                 \n",
      " dense_2 (Dense)             (None, 38)                2470      \n",
      "                                                                 \n",
      "=================================================================\n",
      "Total params: 20,506,054\n",
      "Trainable params: 174,694\n",
      "Non-trainable params: 20,331,360\n",
      "_________________________________________________________________\n"
     ]
    }
   ],
   "source": [
    "base_model_tf.trainable=False\n",
    "\n",
    "pt=Input(shape=(224,224,3))\n",
    "func=tensorflow.cast(pt,tensorflow.float32)\n",
    "x=preprocess_input(func) #This function used to zero-center each color channel wrt Imagenet dataset\n",
    "model_resnet=base_model_tf(x,training=False)\n",
    "model_resnet=GlobalAveragePooling2D()(model_resnet)\n",
    "model_resnet=Dense(128,activation='relu')(model_resnet)\n",
    "model_resnet=Dense(64,activation='relu')(model_resnet)\n",
    "model_resnet=Dense(38,activation='softmax')(model_resnet)\n",
    "\n",
    "\n",
    "model_main=Model(inputs=pt,outputs=model_resnet)\n",
    "model_main.summary()"
   ]
  },
  {
   "cell_type": "code",
   "execution_count": 8,
   "metadata": {
    "id": "M4OmMNNUC1A6"
   },
   "outputs": [],
   "source": [
    "es = EarlyStopping(monitor='accuracy',verbose=1,patience=5,mode='auto')\n",
    "mc = ModelCheckpoint(filepath='C:/Users/DELL/OneDrive/Documents/Folder1/FARMACY/FARMACY CODE/models/cnn',monitor='val_accuracy',verbose=1,save_best_only=True)\n",
    "lr = ReduceLROnPlateau(monitor='val_accuracy',verbose=1,patience=3,min_lr=0.001)"
   ]
  },
  {
   "cell_type": "code",
   "execution_count": 9,
   "metadata": {
    "id": "t6Hr5xCmC4lU"
   },
   "outputs": [],
   "source": [
    "model_main.compile(optimizer='Adam',loss='categorical_crossentropy',metrics=['accuracy'])"
   ]
  },
  {
   "cell_type": "code",
   "execution_count": 37,
   "metadata": {
    "colab": {
     "base_uri": "https://localhost:8080/"
    },
    "id": "EuKtOPZoC_ZX",
    "outputId": "440ae261-06ff-4318-81f1-6eed92ab08ae"
   },
   "outputs": [
    {
     "name": "stdout",
     "output_type": "stream",
     "text": [
      "Epoch 1/30\n",
      "200/200 [==============================] - 177s 756ms/step - loss: 1.5447 - accuracy: 0.5817 - val_loss: 0.7002 - val_accuracy: 0.7937 - lr: 0.0010\n",
      "Epoch 2/30\n",
      "200/200 [==============================] - 146s 733ms/step - loss: 0.5356 - accuracy: 0.8402 - val_loss: 0.4747 - val_accuracy: 0.8529 - lr: 0.0010\n",
      "Epoch 3/30\n",
      "200/200 [==============================] - 147s 736ms/step - loss: 0.4066 - accuracy: 0.8711 - val_loss: 0.3359 - val_accuracy: 0.8917 - lr: 0.0010\n",
      "Epoch 4/30\n",
      "200/200 [==============================] - 147s 736ms/step - loss: 0.3304 - accuracy: 0.8959 - val_loss: 0.2793 - val_accuracy: 0.9103 - lr: 0.0010\n",
      "Epoch 5/30\n",
      "200/200 [==============================] - 146s 732ms/step - loss: 0.2815 - accuracy: 0.9097 - val_loss: 0.2661 - val_accuracy: 0.9132 - lr: 0.0010\n",
      "Epoch 6/30\n",
      "200/200 [==============================] - 147s 734ms/step - loss: 0.2491 - accuracy: 0.9203 - val_loss: 0.2363 - val_accuracy: 0.9223 - lr: 0.0010\n",
      "Epoch 7/30\n",
      "200/200 [==============================] - 146s 733ms/step - loss: 0.2498 - accuracy: 0.9183 - val_loss: 0.2093 - val_accuracy: 0.9321 - lr: 0.0010\n",
      "Epoch 8/30\n",
      "200/200 [==============================] - 148s 740ms/step - loss: 0.2199 - accuracy: 0.9286 - val_loss: 0.2184 - val_accuracy: 0.9264 - lr: 0.0010\n",
      "Epoch 9/30\n",
      "200/200 [==============================] - 147s 735ms/step - loss: 0.2008 - accuracy: 0.9356 - val_loss: 0.1923 - val_accuracy: 0.9343 - lr: 0.0010\n",
      "Epoch 10/30\n",
      "200/200 [==============================] - 146s 731ms/step - loss: 0.1928 - accuracy: 0.9356 - val_loss: 0.2059 - val_accuracy: 0.9300 - lr: 0.0010\n",
      "Epoch 11/30\n",
      "200/200 [==============================] - 146s 729ms/step - loss: 0.1963 - accuracy: 0.9352 - val_loss: 0.2005 - val_accuracy: 0.9341 - lr: 0.0010\n",
      "Epoch 12/30\n",
      "200/200 [==============================] - 146s 729ms/step - loss: 0.1744 - accuracy: 0.9423 - val_loss: 0.1740 - val_accuracy: 0.9398 - lr: 0.0010\n",
      "Epoch 13/30\n",
      "200/200 [==============================] - 154s 769ms/step - loss: 0.1617 - accuracy: 0.9469 - val_loss: 0.1852 - val_accuracy: 0.9389 - lr: 0.0010\n",
      "Epoch 14/30\n",
      "200/200 [==============================] - 149s 746ms/step - loss: 0.1518 - accuracy: 0.9491 - val_loss: 0.1479 - val_accuracy: 0.9496 - lr: 0.0010\n",
      "Epoch 15/30\n",
      "200/200 [==============================] - 147s 737ms/step - loss: 0.1631 - accuracy: 0.9432 - val_loss: 0.1482 - val_accuracy: 0.9498 - lr: 0.0010\n",
      "Epoch 16/30\n",
      "200/200 [==============================] - 147s 736ms/step - loss: 0.1582 - accuracy: 0.9441 - val_loss: 0.1713 - val_accuracy: 0.9407 - lr: 0.0010\n",
      "Epoch 17/30\n",
      "200/200 [==============================] - 146s 733ms/step - loss: 0.1569 - accuracy: 0.9480 - val_loss: 0.1597 - val_accuracy: 0.9450 - lr: 0.0010\n",
      "Epoch 18/30\n",
      "200/200 [==============================] - 146s 732ms/step - loss: 0.1529 - accuracy: 0.9489 - val_loss: 0.1422 - val_accuracy: 0.9528 - lr: 0.0010\n",
      "Epoch 19/30\n",
      "200/200 [==============================] - 147s 735ms/step - loss: 0.1448 - accuracy: 0.9534 - val_loss: 0.1907 - val_accuracy: 0.9342 - lr: 0.0010\n",
      "Epoch 20/30\n",
      "200/200 [==============================] - 147s 737ms/step - loss: 0.1460 - accuracy: 0.9491 - val_loss: 0.1349 - val_accuracy: 0.9538 - lr: 0.0010\n",
      "Epoch 21/30\n",
      "200/200 [==============================] - 146s 733ms/step - loss: 0.1331 - accuracy: 0.9517 - val_loss: 0.1480 - val_accuracy: 0.9503 - lr: 0.0010\n",
      "Epoch 22/30\n",
      "200/200 [==============================] - 146s 731ms/step - loss: 0.1495 - accuracy: 0.9470 - val_loss: 0.1491 - val_accuracy: 0.9492 - lr: 0.0010\n",
      "Epoch 23/30\n",
      "200/200 [==============================] - 146s 731ms/step - loss: 0.1418 - accuracy: 0.9518 - val_loss: 0.1445 - val_accuracy: 0.9507 - lr: 0.0010\n",
      "Epoch 24/30\n",
      "200/200 [==============================] - 146s 730ms/step - loss: 0.1282 - accuracy: 0.9583 - val_loss: 0.1576 - val_accuracy: 0.9471 - lr: 0.0010\n",
      "Epoch 25/30\n",
      "200/200 [==============================] - 147s 734ms/step - loss: 0.1282 - accuracy: 0.9578 - val_loss: 0.1314 - val_accuracy: 0.9562 - lr: 0.0010\n",
      "Epoch 26/30\n",
      "200/200 [==============================] - 146s 733ms/step - loss: 0.1210 - accuracy: 0.9594 - val_loss: 0.1276 - val_accuracy: 0.9562 - lr: 0.0010\n",
      "Epoch 27/30\n",
      "200/200 [==============================] - 147s 735ms/step - loss: 0.1245 - accuracy: 0.9575 - val_loss: 0.1340 - val_accuracy: 0.9553 - lr: 0.0010\n",
      "Epoch 28/30\n",
      "200/200 [==============================] - 148s 741ms/step - loss: 0.1194 - accuracy: 0.9591 - val_loss: 0.1224 - val_accuracy: 0.9575 - lr: 0.0010\n",
      "Epoch 29/30\n",
      "200/200 [==============================] - 146s 734ms/step - loss: 0.1161 - accuracy: 0.9597 - val_loss: 0.1416 - val_accuracy: 0.9514 - lr: 0.0010\n",
      "Epoch 30/30\n",
      "200/200 [==============================] - 146s 730ms/step - loss: 0.1268 - accuracy: 0.9573 - val_loss: 0.1278 - val_accuracy: 0.9553 - lr: 0.0010\n"
     ]
    },
    {
     "data": {
      "text/plain": [
       "<keras.callbacks.History at 0x7fdaad1a5950>"
      ]
     },
     "execution_count": 37,
     "metadata": {},
     "output_type": "execute_result"
    }
   ],
   "source": [
    "model_main.fit(train,validation_data=valid,epochs=30,steps_per_epoch=200,verbose=1,callbacks=[es, lr])"
   ]
  },
  {
   "cell_type": "code",
   "execution_count": 38,
   "metadata": {
    "id": "LkqbHVlBtla4"
   },
   "outputs": [],
   "source": [
    "model_main.save(\"efficientnetv2s_PLANT_DISEASE.h5\")"
   ]
  },
  {
   "cell_type": "code",
   "execution_count": 39,
   "metadata": {
    "id": "Z5dVxPRst3Zf"
   },
   "outputs": [],
   "source": [
    "import matplotlib.pyplot as plt\n",
    "%matplotlib inline\n",
    "import cv2\n",
    "from PIL import Image"
   ]
  },
  {
   "cell_type": "code",
   "execution_count": 41,
   "metadata": {
    "colab": {
     "base_uri": "https://localhost:8080/",
     "height": 367
    },
    "id": "i7KM2A5HuDvk",
    "outputId": "438e4aa0-c3c6-4531-e1f6-9dc2c506d119"
   },
   "outputs": [
    {
     "data": {
      "text/plain": [
       "Text(0.5, 1.0, 'model loss')"
      ]
     },
     "execution_count": 41,
     "metadata": {},
     "output_type": "execute_result"
    },
    {
     "data": {
      "image/png": "[encoded data removed]",
      "text/plain": [
       "<Figure size 720x360 with 1 Axes>"
      ]
     },
     "metadata": {
      "needs_background": "light"
     },
     "output_type": "display_data"
    }
   ],
   "source": [
    "plt.figure(figsize=(10,5))\n",
    "plt.plot(model_main.history.history['loss'],color='b',label='Training loss')\n",
    "plt.plot(model_main.history.history['val_loss'],color='r',label='Validation loss')\n",
    "plt.xlabel(\"epochs\")\n",
    "plt.ylabel(\"loss\")\n",
    "plt.legend(['train', 'validation'], loc='upper right')\n",
    "plt.title(\"model loss\")"
   ]
  },
  {
   "cell_type": "code",
   "execution_count": 42,
   "metadata": {
    "colab": {
     "base_uri": "https://localhost:8080/",
     "height": 367
    },
    "id": "k6XvZizquLsx",
    "outputId": "eb5093d2-9134-4a12-a6f6-98b40ec96d73"
   },
   "outputs": [
    {
     "data": {
      "text/plain": [
       "Text(0.5, 1.0, 'model accuracy')"
      ]
     },
     "execution_count": 42,
     "metadata": {},
     "output_type": "execute_result"
    },
    {
     "data": {
      "image/png": "[encoded data removed]",
      "text/plain": [
       "<Figure size 720x360 with 1 Axes>"
      ]
     },
     "metadata": {
      "needs_background": "light"
     },
     "output_type": "display_data"
    }
   ],
   "source": [
    "plt.figure(figsize=(10,5))\n",
    "plt.plot(model_main.history.history['accuracy'],color='b',label='Training accuracy')\n",
    "plt.plot(model_main.history.history['val_accuracy'],color='r',label='Validation accsuracy')\n",
    "plt.xlabel(\"epochs\")\n",
    "plt.ylabel(\"accuracy\")\n",
    "plt.legend(['train', 'validation'], loc='lower right')\n",
    "plt.title(\"model accuracy\")"
   ]
  },
  {
   "cell_type": "code",
   "execution_count": 44,
   "metadata": {
    "colab": {
     "base_uri": "https://localhost:8080/"
    },
    "id": "aUM1dsGIIwif",
    "outputId": "e31f7b75-8dd4-4765-e8ef-d8f467d0e153"
   },
   "outputs": [
    {
     "name": "stdout",
     "output_type": "stream",
     "text": [
      "1900/1900 [==============================] - 731s 384ms/step - loss: 0.1130 - accuracy: 0.9606\n",
      "Train: accuracy = 0.960589  ;  loss = 0.112972\n",
      "550/550 [==============================] - 73s 132ms/step - loss: 0.1278 - accuracy: 0.9553\n",
      "Validation: accuracy = 0.955327  ;  loss = 0.127811\n",
      "297/297 [==============================] - 40s 135ms/step - loss: 0.1254 - accuracy: 0.9584\n",
      "Test: accuracy = 0.958421  ;  loss = 0.125422\n"
     ]
    }
   ],
   "source": [
    "loss, accuracy = model_main.evaluate(train, verbose=1)\n",
    "print(\"Train: accuracy = %f  ;  loss = %f\" % (accuracy, loss))\n",
    "\n",
    "loss, accuracy = model_main.evaluate(valid, verbose=1)\n",
    "print(\"Validation: accuracy = %f  ;  loss = %f\" % (accuracy, loss))\n",
    "\n",
    "loss, accuracy = model_main.evaluate(test, verbose=1)\n",
    "print(\"Test: accuracy = %f  ;  loss = %f\" % (accuracy, loss))"
   ]
  },
  {
   "cell_type": "code",
   "execution_count": 45,
   "metadata": {
    "id": "QA0iZoBaTdOo"
   },
   "outputs": [],
   "source": [
    "model = load_model(\"C:/Users/DELL/OneDrive/Documents/Folder1/FARMACY/FARMACY CODE/models/cnn/model/efficientnetv2s_PLANT_DISEASE.h5\")"
   ]
  },
  {
   "cell_type": "code",
   "execution_count": 47,
   "metadata": {
    "id": "-a7HqvnAUHzT"
   },
   "outputs": [],
   "source": [
    "img = tensorflow.keras.utils.load_img(\n",
    "    \"C:/Users/DELL/OneDrive/Documents/Folder1/FARMACY/test/test/PotatoEarlyBlight1.JPG\",\n",
    "    target_size=(224, 224, 3)\n",
    ")\n",
    "input_arr = tensorflow.keras.preprocessing.image.img_to_array(img)\n",
    "input_arr = np.array([input_arr])\n",
    "result = model.predict(input_arr)"
   ]
  },
  {
   "cell_type": "code",
   "execution_count": 48,
   "metadata": {
    "id": "e7lnlj2iWfTE"
   },
   "outputs": [],
   "source": [
    "probability_model = tensorflow.keras.Sequential([model, \n",
    "                                         tensorflow.keras.layers.Softmax()])"
   ]
  },
  {
   "cell_type": "code",
   "execution_count": 49,
   "metadata": {
    "id": "jkvbnTvhWs-R"
   },
   "outputs": [],
   "source": [
    "predict = probability_model.predict(input_arr)"
   ]
  },
  {
   "cell_type": "code",
   "execution_count": 50,
   "metadata": {
    "colab": {
     "base_uri": "https://localhost:8080/"
    },
    "id": "i4weqjH-XKmg",
    "outputId": "f04ba082-11cf-4994-80b5-6ad709761e9b"
   },
   "outputs": [
    {
     "data": {
      "text/plain": [
       "array([0.0251776 , 0.02517755, 0.02517755, 0.02517755, 0.02517755,\n",
       "       0.02517755, 0.02517755, 0.02517755, 0.02517755, 0.02517755,\n",
       "       0.02517755, 0.02517755, 0.02517755, 0.02517755, 0.02517755,\n",
       "       0.02517755, 0.02517755, 0.02517755, 0.02517755, 0.02517755,\n",
       "       0.06842563, 0.0251825 , 0.02517755, 0.02517755, 0.02517755,\n",
       "       0.02517755, 0.02517755, 0.02517755, 0.02517755, 0.02517763,\n",
       "       0.02517761, 0.02517755, 0.02517755, 0.02517755, 0.02517755,\n",
       "       0.02517755, 0.02517755, 0.02517755], dtype=float32)"
      ]
     },
     "execution_count": 50,
     "metadata": {},
     "output_type": "execute_result"
    }
   ],
   "source": [
    "predict[0]"
   ]
  },
  {
   "cell_type": "code",
   "execution_count": 51,
   "metadata": {
    "id": "8xtxNDBaXTx3"
   },
   "outputs": [],
   "source": [
    "classes = ['Apple___Apple_scab', 'Apple___Black_rot', 'Apple___Cedar_apple_rust', 'Apple___healthy', 'Blueberry___healthy', 'Cherry_(including_sour)___Powdery_mildew', 'Cherry_(including_sour)___healthy', 'Corn_(maize)___Cercospora_leaf_spot Gray_leaf_spot', 'Corn_(maize)___Common_rust_', 'Corn_(maize)___Northern_Leaf_Blight', 'Corn_(maize)___healthy', 'Grape___Black_rot', 'Grape___Esca_(Black_Measles)', 'Grape___Leaf_blight_(Isariopsis_Leaf_Spot)', 'Grape___healthy', 'Orange___Haunglongbing_(Citrus_greening)', 'Peach___Bacterial_spot', 'Peach___healthy', 'Pepper,_bell___Bacterial_spot', 'Pepper,_bell___healthy', 'Potato___Early_blight', 'Potato___Late_blight', 'Potato___healthy', 'Raspberry___healthy', 'Soybean___healthy', 'Squash___Powdery_mildew', 'Strawberry___Leaf_scorch', 'Strawberry___healthy', 'Tomato___Bacterial_spot', 'Tomato___Early_blight', 'Tomato___Late_blight', 'Tomato___Leaf_Mold', 'Tomato___Septoria_leaf_spot', 'Tomato___Spider_mites Two-spotted_spider_mite', 'Tomato___Target_Spot', 'Tomato___Tomato_Yellow_Leaf_Curl_Virus', 'Tomato___Tomato_mosaic_virus', 'Tomato___healthy']\n"
   ]
  },
  {
   "cell_type": "code",
   "execution_count": 52,
   "metadata": {
    "colab": {
     "base_uri": "https://localhost:8080/"
    },
    "id": "DsnyQkvlXMgd",
    "outputId": "1dc209fe-1709-4dcc-8388-774c20b1204f"
   },
   "outputs": [
    {
     "name": "stdout",
     "output_type": "stream",
     "text": [
      "Potato___Early_blight\n"
     ]
    }
   ],
   "source": [
    "p = np.argmax(predict[0])\n",
    "print(classes[p])"
   ]
  }
 ],
 "metadata": {
  "accelerator": "GPU",
  "colab": {
   "collapsed_sections": [],
   "name": "EfficientNetV2.ipynb",
   "provenance": []
  },
  "kernelspec": {
   "display_name": "Python 3",
   "language": "python",
   "name": "python3"
  },
  "language_info": {
   "codemirror_mode": {
    "name": "ipython",
    "version": 3
   },
   "file_extension": ".py",
   "mimetype": "text/x-python",
   "name": "python",
   "nbconvert_exporter": "python",
   "pygments_lexer": "ipython3",
   "version": "3.8.6"
  }
 },
 "nbformat": 4,
 "nbformat_minor": 1
}
